{
 "cells": [
  {
   "cell_type": "code",
   "execution_count": 34,
   "id": "794a4cbc",
   "metadata": {
    "scrolled": true
   },
   "outputs": [
    {
     "ename": "ModuleNotFoundError",
     "evalue": "No module named 'geopandas'",
     "output_type": "error",
     "traceback": [
      "\u001b[1;31m---------------------------------------------------------------------------\u001b[0m",
      "\u001b[1;31mModuleNotFoundError\u001b[0m                       Traceback (most recent call last)",
      "\u001b[1;32m<ipython-input-34-a0c3a2181546>\u001b[0m in \u001b[0;36m<module>\u001b[1;34m\u001b[0m\n\u001b[0;32m      4\u001b[0m \u001b[1;32mimport\u001b[0m \u001b[0mpandas\u001b[0m \u001b[1;32mas\u001b[0m \u001b[0mpd\u001b[0m\u001b[1;33m\u001b[0m\u001b[1;33m\u001b[0m\u001b[0m\n\u001b[0;32m      5\u001b[0m \u001b[1;32mimport\u001b[0m \u001b[0mjson\u001b[0m\u001b[1;33m\u001b[0m\u001b[1;33m\u001b[0m\u001b[0m\n\u001b[1;32m----> 6\u001b[1;33m \u001b[1;32mimport\u001b[0m \u001b[0mgeopandas\u001b[0m \u001b[1;32mas\u001b[0m \u001b[0mgpd\u001b[0m\u001b[1;33m\u001b[0m\u001b[1;33m\u001b[0m\u001b[0m\n\u001b[0m\u001b[0;32m      7\u001b[0m \u001b[1;32mfrom\u001b[0m \u001b[0mio\u001b[0m \u001b[1;32mimport\u001b[0m \u001b[0mStringIO\u001b[0m\u001b[1;33m\u001b[0m\u001b[1;33m\u001b[0m\u001b[0m\n\u001b[0;32m      8\u001b[0m \u001b[1;32mimport\u001b[0m \u001b[0mnumpy\u001b[0m \u001b[1;32mas\u001b[0m \u001b[0mnp\u001b[0m\u001b[1;33m\u001b[0m\u001b[1;33m\u001b[0m\u001b[0m\n",
      "\u001b[1;31mModuleNotFoundError\u001b[0m: No module named 'geopandas'"
     ]
    }
   ],
   "source": [
    "import requests\n",
    "import matplotlib.pyplot as plt\n",
    "from IPython.display import Image\n",
    "import pandas as pd\n",
    "import json\n",
    "import geopandas as gpd\n",
    "from io import StringIO\n",
    "import numpy as np\n",
    "import statsmodels.api as sm"
   ]
  },
  {
   "cell_type": "code",
   "execution_count": 9,
   "id": "b0bd5c7a",
   "metadata": {},
   "outputs": [],
   "source": [
    "with open('../data/api_toxen.json') as fi:\n",
    "    credentials = json.load(fi)\n",
    "    \n",
    "api_key = credentials['api_key']"
   ]
  },
  {
   "cell_type": "code",
   "execution_count": 10,
   "id": "af9a90b1",
   "metadata": {
    "scrolled": true
   },
   "outputs": [],
   "source": [
    "endpoint = 'https://data.nashville.gov/resource/2u6v-ujjs.geojson'"
   ]
  },
  {
   "cell_type": "code",
   "execution_count": 11,
   "id": "f1f9cfea",
   "metadata": {},
   "outputs": [],
   "source": [
    "params = {'offense_description':'BURGLARY- AGGRAVATED',  '$where': 'incident_reported between \\'2021-01-01\\' and \\'2021-06-30\\'','$limit': 10000}"
   ]
  },
  {
   "cell_type": "code",
   "execution_count": 12,
   "id": "cec4f1b6",
   "metadata": {
    "scrolled": true
   },
   "outputs": [
    {
     "data": {
      "text/plain": [
       "<Response [200]>"
      ]
     },
     "execution_count": 12,
     "metadata": {},
     "output_type": "execute_result"
    }
   ],
   "source": [
    "response = requests.get(endpoint, params)\n",
    "response"
   ]
  },
  {
   "cell_type": "code",
   "execution_count": 13,
   "id": "41111610",
   "metadata": {},
   "outputs": [
    {
     "ename": "NameError",
     "evalue": "name 'gpd' is not defined",
     "output_type": "error",
     "traceback": [
      "\u001b[1;31m---------------------------------------------------------------------------\u001b[0m",
      "\u001b[1;31mNameError\u001b[0m                                 Traceback (most recent call last)",
      "\u001b[1;32m<ipython-input-13-c66fbaaaa174>\u001b[0m in \u001b[0;36m<module>\u001b[1;34m\u001b[0m\n\u001b[1;32m----> 1\u001b[1;33m \u001b[0mBA_gdf\u001b[0m \u001b[1;33m=\u001b[0m \u001b[0mgpd\u001b[0m\u001b[1;33m.\u001b[0m\u001b[0mread_file\u001b[0m\u001b[1;33m(\u001b[0m\u001b[0mStringIO\u001b[0m\u001b[1;33m(\u001b[0m\u001b[0mresponse\u001b[0m\u001b[1;33m.\u001b[0m\u001b[0mtext\u001b[0m\u001b[1;33m)\u001b[0m\u001b[1;33m)\u001b[0m\u001b[1;33m\u001b[0m\u001b[1;33m\u001b[0m\u001b[0m\n\u001b[0m\u001b[0;32m      2\u001b[0m \u001b[0mBA_gdf\u001b[0m\u001b[1;33m.\u001b[0m\u001b[0mcolumns\u001b[0m\u001b[1;33m\u001b[0m\u001b[1;33m\u001b[0m\u001b[0m\n",
      "\u001b[1;31mNameError\u001b[0m: name 'gpd' is not defined"
     ]
    }
   ],
   "source": [
    "BA_gdf = gpd.read_file(StringIO(response.text))\n",
    "BA_gdf.columns"
   ]
  },
  {
   "cell_type": "markdown",
   "id": "df884735",
   "metadata": {},
   "source": [
    "# 2"
   ]
  },
  {
   "cell_type": "code",
   "execution_count": null,
   "id": "556969dc",
   "metadata": {
    "scrolled": false
   },
   "outputs": [],
   "source": [
    "ctract_gdf = gpd.read_file(\"../data/tl_2019_47_tract.shp\")\n",
    "ctract_gdf = ctract_gdf.to_crs(epsg=4326)\n",
    "ctract_gdf.rename(columns= {'TRACTCE': 'tract'}, inplace=True)\n",
    "ctract_gdf"
   ]
  },
  {
   "cell_type": "code",
   "execution_count": null,
   "id": "559b5a12",
   "metadata": {
    "scrolled": true
   },
   "outputs": [],
   "source": [
    "BA_gdf = BA_gdf[\n",
    "                ['victim_number',\n",
    "                'incident_occurred', \n",
    "                'incident_number',\n",
    "                'geometry']\n",
    "                                    ]\n",
    "                 "
   ]
  },
  {
   "cell_type": "code",
   "execution_count": 14,
   "id": "f0082252",
   "metadata": {},
   "outputs": [
    {
     "ename": "NameError",
     "evalue": "name 'ctract_gdf' is not defined",
     "output_type": "error",
     "traceback": [
      "\u001b[1;31m---------------------------------------------------------------------------\u001b[0m",
      "\u001b[1;31mNameError\u001b[0m                                 Traceback (most recent call last)",
      "\u001b[1;32m<ipython-input-14-1fa448b0a1d7>\u001b[0m in \u001b[0;36m<module>\u001b[1;34m\u001b[0m\n\u001b[1;32m----> 1\u001b[1;33m ctract_gdf = ctract_gdf[\n\u001b[0m\u001b[0;32m      2\u001b[0m                         ['tract',\n\u001b[0;32m      3\u001b[0m                         'geometry']\n\u001b[0;32m      4\u001b[0m ]\n",
      "\u001b[1;31mNameError\u001b[0m: name 'ctract_gdf' is not defined"
     ]
    }
   ],
   "source": [
    "ctract_gdf = ctract_gdf[\n",
    "                        ['tract',\n",
    "                        'geometry']\n",
    "]"
   ]
  },
  {
   "cell_type": "code",
   "execution_count": 15,
   "id": "402a1774",
   "metadata": {
    "scrolled": true
   },
   "outputs": [
    {
     "ename": "NameError",
     "evalue": "name 'gpd' is not defined",
     "output_type": "error",
     "traceback": [
      "\u001b[1;31m---------------------------------------------------------------------------\u001b[0m",
      "\u001b[1;31mNameError\u001b[0m                                 Traceback (most recent call last)",
      "\u001b[1;32m<ipython-input-15-c0c2c247b999>\u001b[0m in \u001b[0;36m<module>\u001b[1;34m\u001b[0m\n\u001b[1;32m----> 1\u001b[1;33m \u001b[0mab_by_censustract\u001b[0m \u001b[1;33m=\u001b[0m \u001b[0mgpd\u001b[0m\u001b[1;33m.\u001b[0m\u001b[0msjoin\u001b[0m\u001b[1;33m(\u001b[0m\u001b[0mBA_gdf\u001b[0m\u001b[1;33m,\u001b[0m \u001b[0mctract_gdf\u001b[0m\u001b[1;33m,\u001b[0m \u001b[0mop\u001b[0m \u001b[1;33m=\u001b[0m \u001b[1;34m'within'\u001b[0m\u001b[1;33m)\u001b[0m\u001b[1;33m\u001b[0m\u001b[1;33m\u001b[0m\u001b[0m\n\u001b[0m\u001b[0;32m      2\u001b[0m \u001b[0mab_by_censustract\u001b[0m\u001b[1;33m\u001b[0m\u001b[1;33m\u001b[0m\u001b[0m\n",
      "\u001b[1;31mNameError\u001b[0m: name 'gpd' is not defined"
     ]
    }
   ],
   "source": [
    "ab_by_censustract = gpd.sjoin(BA_gdf, ctract_gdf, op = 'within')\n",
    "ab_by_censustract"
   ]
  },
  {
   "cell_type": "code",
   "execution_count": 16,
   "id": "5b3e785c",
   "metadata": {
    "scrolled": true
   },
   "outputs": [
    {
     "ename": "NameError",
     "evalue": "name 'ab_by_censustract' is not defined",
     "output_type": "error",
     "traceback": [
      "\u001b[1;31m---------------------------------------------------------------------------\u001b[0m",
      "\u001b[1;31mNameError\u001b[0m                                 Traceback (most recent call last)",
      "\u001b[1;32m<ipython-input-16-b34572cb00cd>\u001b[0m in \u001b[0;36m<module>\u001b[1;34m\u001b[0m\n\u001b[1;32m----> 1\u001b[1;33m \u001b[0mab_by_censustract_drop\u001b[0m \u001b[1;33m=\u001b[0m \u001b[0mab_by_censustract\u001b[0m\u001b[1;33m.\u001b[0m\u001b[0mdrop_duplicates\u001b[0m\u001b[1;33m(\u001b[0m\u001b[0msubset\u001b[0m\u001b[1;33m=\u001b[0m\u001b[1;33m[\u001b[0m\u001b[1;34m'incident_number'\u001b[0m\u001b[1;33m]\u001b[0m\u001b[1;33m)\u001b[0m\u001b[1;33m\u001b[0m\u001b[1;33m\u001b[0m\u001b[0m\n\u001b[0m\u001b[0;32m      2\u001b[0m \u001b[0mab_by_censustract_drop\u001b[0m\u001b[1;33m.\u001b[0m\u001b[0mgroupby\u001b[0m\u001b[1;33m(\u001b[0m\u001b[1;34m'tract'\u001b[0m\u001b[1;33m)\u001b[0m\u001b[1;33m.\u001b[0m\u001b[0mcount\u001b[0m\u001b[1;33m(\u001b[0m\u001b[1;33m)\u001b[0m\u001b[1;33m.\u001b[0m\u001b[0mnlargest\u001b[0m\u001b[1;33m(\u001b[0m\u001b[1;36m2\u001b[0m\u001b[1;33m,\u001b[0m\u001b[1;34m'victim_number'\u001b[0m\u001b[1;33m)\u001b[0m\u001b[1;33m\u001b[0m\u001b[1;33m\u001b[0m\u001b[0m\n\u001b[0;32m      3\u001b[0m \u001b[1;33m\u001b[0m\u001b[0m\n",
      "\u001b[1;31mNameError\u001b[0m: name 'ab_by_censustract' is not defined"
     ]
    }
   ],
   "source": [
    "ab_by_censustract_drop = ab_by_censustract.drop_duplicates(subset=['incident_number'])\n",
    "ab_by_censustract_drop.groupby('tract').count().nlargest(2,'victim_number')\n",
    "                                                            "
   ]
  },
  {
   "cell_type": "markdown",
   "id": "f44002ca",
   "metadata": {},
   "source": [
    "Census Tract 163 had the highest number of aggrevated burglaries at 53."
   ]
  },
  {
   "cell_type": "code",
   "execution_count": 17,
   "id": "87ea0751",
   "metadata": {},
   "outputs": [
    {
     "ename": "NameError",
     "evalue": "name 'ab_by_censustract' is not defined",
     "output_type": "error",
     "traceback": [
      "\u001b[1;31m---------------------------------------------------------------------------\u001b[0m",
      "\u001b[1;31mNameError\u001b[0m                                 Traceback (most recent call last)",
      "\u001b[1;32m<ipython-input-17-66870eeb38f4>\u001b[0m in \u001b[0;36m<module>\u001b[1;34m\u001b[0m\n\u001b[1;32m----> 1\u001b[1;33m \u001b[0mab_by_censustract\u001b[0m\u001b[1;33m\u001b[0m\u001b[1;33m\u001b[0m\u001b[0m\n\u001b[0m",
      "\u001b[1;31mNameError\u001b[0m: name 'ab_by_censustract' is not defined"
     ]
    }
   ],
   "source": [
    "ab_by_censustract"
   ]
  },
  {
   "cell_type": "markdown",
   "id": "3a4e5b5a",
   "metadata": {},
   "source": [
    "# 3"
   ]
  },
  {
   "cell_type": "code",
   "execution_count": 18,
   "id": "623bf831",
   "metadata": {
    "scrolled": false
   },
   "outputs": [],
   "source": [
    "with open('../data/api_census_token.json') as fi:\n",
    "    credentials = json.load(fi)\n",
    "    \n",
    "api_key_1 = credentials['api_key']"
   ]
  },
  {
   "cell_type": "code",
   "execution_count": 19,
   "id": "061408bf",
   "metadata": {},
   "outputs": [],
   "source": [
    "endpoint_1 = 'https://api.census.gov/data/2019/acs/acs5'"
   ]
  },
  {
   "cell_type": "code",
   "execution_count": 20,
   "id": "ec3ec7c1",
   "metadata": {},
   "outputs": [],
   "source": [
    "parameters_1 = {'get': 'B01001_001E', 'for': 'tract', 'in': 'state:47 county:037', 'key': api_key_1}"
   ]
  },
  {
   "cell_type": "code",
   "execution_count": 21,
   "id": "9ba13da4",
   "metadata": {},
   "outputs": [
    {
     "data": {
      "text/plain": [
       "<Response [200]>"
      ]
     },
     "execution_count": 21,
     "metadata": {},
     "output_type": "execute_result"
    }
   ],
   "source": [
    "response_1 = requests.get(endpoint_1, parameters_1)\n",
    "response_1"
   ]
  },
  {
   "cell_type": "code",
   "execution_count": 22,
   "id": "cfba5e6b",
   "metadata": {
    "scrolled": true
   },
   "outputs": [],
   "source": [
    "census_df= pd.DataFrame(response_1.json())\n",
    "census_df.columns = census_df.iloc[0]\n",
    "census_df = census_df.iloc[1:,:]\n",
    "census_df.rename(columns = {'B01001_001E': 'population'}, inplace=True)"
   ]
  },
  {
   "cell_type": "code",
   "execution_count": 23,
   "id": "7ec979f4",
   "metadata": {},
   "outputs": [],
   "source": [
    "endpoint_2 = 'https://api.census.gov/data/2019/acs/acs5/subject'"
   ]
  },
  {
   "cell_type": "code",
   "execution_count": 24,
   "id": "e4c243ec",
   "metadata": {},
   "outputs": [],
   "source": [
    "parameters_2 = {'get': 'S1901_C01_012E', 'for': 'tract', 'in': 'state:47 county:037', 'key': api_key_1}"
   ]
  },
  {
   "cell_type": "code",
   "execution_count": 25,
   "id": "e45dbffd",
   "metadata": {},
   "outputs": [
    {
     "data": {
      "text/plain": [
       "<Response [200]>"
      ]
     },
     "execution_count": 25,
     "metadata": {},
     "output_type": "execute_result"
    }
   ],
   "source": [
    "response_2 = requests.get(endpoint_2, parameters_2)\n",
    "response_2"
   ]
  },
  {
   "cell_type": "code",
   "execution_count": 26,
   "id": "f4ece9bf",
   "metadata": {},
   "outputs": [
    {
     "data": {
      "text/html": [
       "<div>\n",
       "<style scoped>\n",
       "    .dataframe tbody tr th:only-of-type {\n",
       "        vertical-align: middle;\n",
       "    }\n",
       "\n",
       "    .dataframe tbody tr th {\n",
       "        vertical-align: top;\n",
       "    }\n",
       "\n",
       "    .dataframe thead th {\n",
       "        text-align: right;\n",
       "    }\n",
       "</style>\n",
       "<table border=\"1\" class=\"dataframe\">\n",
       "  <thead>\n",
       "    <tr style=\"text-align: right;\">\n",
       "      <th></th>\n",
       "      <th>median_income</th>\n",
       "      <th>state</th>\n",
       "      <th>county</th>\n",
       "      <th>tract</th>\n",
       "    </tr>\n",
       "  </thead>\n",
       "  <tbody>\n",
       "    <tr>\n",
       "      <th>1</th>\n",
       "      <td>75579</td>\n",
       "      <td>47</td>\n",
       "      <td>037</td>\n",
       "      <td>015631</td>\n",
       "    </tr>\n",
       "    <tr>\n",
       "      <th>2</th>\n",
       "      <td>45129</td>\n",
       "      <td>47</td>\n",
       "      <td>037</td>\n",
       "      <td>015804</td>\n",
       "    </tr>\n",
       "    <tr>\n",
       "      <th>3</th>\n",
       "      <td>134786</td>\n",
       "      <td>47</td>\n",
       "      <td>037</td>\n",
       "      <td>017701</td>\n",
       "    </tr>\n",
       "    <tr>\n",
       "      <th>4</th>\n",
       "      <td>107813</td>\n",
       "      <td>47</td>\n",
       "      <td>037</td>\n",
       "      <td>017702</td>\n",
       "    </tr>\n",
       "    <tr>\n",
       "      <th>5</th>\n",
       "      <td>87591</td>\n",
       "      <td>47</td>\n",
       "      <td>037</td>\n",
       "      <td>018301</td>\n",
       "    </tr>\n",
       "    <tr>\n",
       "      <th>...</th>\n",
       "      <td>...</td>\n",
       "      <td>...</td>\n",
       "      <td>...</td>\n",
       "      <td>...</td>\n",
       "    </tr>\n",
       "    <tr>\n",
       "      <th>157</th>\n",
       "      <td>37656</td>\n",
       "      <td>47</td>\n",
       "      <td>037</td>\n",
       "      <td>015613</td>\n",
       "    </tr>\n",
       "    <tr>\n",
       "      <th>158</th>\n",
       "      <td>54149</td>\n",
       "      <td>47</td>\n",
       "      <td>037</td>\n",
       "      <td>015620</td>\n",
       "    </tr>\n",
       "    <tr>\n",
       "      <th>159</th>\n",
       "      <td>48221</td>\n",
       "      <td>47</td>\n",
       "      <td>037</td>\n",
       "      <td>016100</td>\n",
       "    </tr>\n",
       "    <tr>\n",
       "      <th>160</th>\n",
       "      <td>50857</td>\n",
       "      <td>47</td>\n",
       "      <td>037</td>\n",
       "      <td>011400</td>\n",
       "    </tr>\n",
       "    <tr>\n",
       "      <th>161</th>\n",
       "      <td>37679</td>\n",
       "      <td>47</td>\n",
       "      <td>037</td>\n",
       "      <td>013800</td>\n",
       "    </tr>\n",
       "  </tbody>\n",
       "</table>\n",
       "<p>161 rows × 4 columns</p>\n",
       "</div>"
      ],
      "text/plain": [
       "0   median_income state county   tract\n",
       "1           75579    47    037  015631\n",
       "2           45129    47    037  015804\n",
       "3          134786    47    037  017701\n",
       "4          107813    47    037  017702\n",
       "5           87591    47    037  018301\n",
       "..            ...   ...    ...     ...\n",
       "157         37656    47    037  015613\n",
       "158         54149    47    037  015620\n",
       "159         48221    47    037  016100\n",
       "160         50857    47    037  011400\n",
       "161         37679    47    037  013800\n",
       "\n",
       "[161 rows x 4 columns]"
      ]
     },
     "execution_count": 26,
     "metadata": {},
     "output_type": "execute_result"
    }
   ],
   "source": [
    "census_df_subject = pd.DataFrame(response_2.json())\n",
    "census_df_subject.columns = census_df_subject.iloc[0]\n",
    "census_df_subject = census_df_subject.iloc[1:,:]\n",
    "census_df_subject.rename(columns= {'S1901_C01_012E': 'median_income'}, inplace=True)\n",
    "census_df_subject"
   ]
  },
  {
   "cell_type": "code",
   "execution_count": 27,
   "id": "7c8b2592",
   "metadata": {},
   "outputs": [
    {
     "data": {
      "text/plain": [
       "(161, 3)"
      ]
     },
     "execution_count": 27,
     "metadata": {},
     "output_type": "execute_result"
    }
   ],
   "source": [
    "complete_census_df = pd.merge(census_df, census_df_subject, how='inner', on=['state', 'county', 'tract'])\n",
    "complete_census_df = complete_census_df[['population', 'tract', 'median_income']]\n",
    "complete_census_df.shape"
   ]
  },
  {
   "cell_type": "code",
   "execution_count": 28,
   "id": "70007288",
   "metadata": {},
   "outputs": [
    {
     "ename": "NameError",
     "evalue": "name 'ab_by_censustract' is not defined",
     "output_type": "error",
     "traceback": [
      "\u001b[1;31m---------------------------------------------------------------------------\u001b[0m",
      "\u001b[1;31mNameError\u001b[0m                                 Traceback (most recent call last)",
      "\u001b[1;32m<ipython-input-28-bc5975f7ddab>\u001b[0m in \u001b[0;36m<module>\u001b[1;34m\u001b[0m\n\u001b[1;32m----> 1\u001b[1;33m \u001b[0multimate_df\u001b[0m \u001b[1;33m=\u001b[0m \u001b[0mab_by_censustract\u001b[0m\u001b[1;33m.\u001b[0m\u001b[0mmerge\u001b[0m\u001b[1;33m(\u001b[0m\u001b[0mcomplete_census_df\u001b[0m\u001b[1;33m,\u001b[0m \u001b[0mon\u001b[0m\u001b[1;33m=\u001b[0m\u001b[1;34m\"tract\"\u001b[0m\u001b[1;33m)\u001b[0m\u001b[1;33m\u001b[0m\u001b[1;33m\u001b[0m\u001b[0m\n\u001b[0m\u001b[0;32m      2\u001b[0m \u001b[0multimate_df\u001b[0m\u001b[1;33m[\u001b[0m\u001b[1;34m'population'\u001b[0m\u001b[1;33m]\u001b[0m \u001b[1;33m=\u001b[0m \u001b[0mpd\u001b[0m\u001b[1;33m.\u001b[0m\u001b[0mto_numeric\u001b[0m\u001b[1;33m(\u001b[0m\u001b[0multimate_df\u001b[0m\u001b[1;33m[\u001b[0m\u001b[1;34m'population'\u001b[0m\u001b[1;33m]\u001b[0m\u001b[1;33m,\u001b[0m\u001b[0merrors\u001b[0m \u001b[1;33m=\u001b[0m \u001b[1;34m'coerce'\u001b[0m\u001b[1;33m)\u001b[0m\u001b[1;33m\u001b[0m\u001b[1;33m\u001b[0m\u001b[0m\n\u001b[0;32m      3\u001b[0m \u001b[0multimate_df\u001b[0m\u001b[1;33m.\u001b[0m\u001b[0minfo\u001b[0m\u001b[1;33m(\u001b[0m\u001b[1;33m)\u001b[0m\u001b[1;33m\u001b[0m\u001b[1;33m\u001b[0m\u001b[0m\n",
      "\u001b[1;31mNameError\u001b[0m: name 'ab_by_censustract' is not defined"
     ]
    }
   ],
   "source": [
    "ultimate_df = ab_by_censustract.merge(complete_census_df, on=\"tract\")\n",
    "ultimate_df['population'] = pd.to_numeric(ultimate_df['population'],errors = 'coerce')\n",
    "ultimate_df.info()"
   ]
  },
  {
   "cell_type": "markdown",
   "id": "1f65855c",
   "metadata": {},
   "source": [
    "# 4"
   ]
  },
  {
   "cell_type": "code",
   "execution_count": null,
   "id": "e5eca4d4",
   "metadata": {
    "scrolled": true
   },
   "outputs": [],
   "source": [
    "ultimate_df = ultimate_df.drop_duplicates(subset=['incident_number'])\n",
    "ultimate_df_count = ultimate_df['tract'].value_counts().reset_index()\n",
    "ultimate_df_count.rename(columns = {\"index\": 'tract', 'tract': 'tot_agg_burg'}, inplace=True)\n",
    "ultimate_df_2 = ultimate_df.merge(ultimate_df_count, on='tract')\n",
    "ultimate_df_2.drop(columns = 'victim_number', inplace=True)\n",
    "ultimate_df_2.drop_duplicates(['population', 'median_income'], inplace=True)\n",
    "ultimate_df_2['tot_agg_burg'].astype(float)\n",
    "ultimate_df_2['burglaries_per_1000'] = (ultimate_df_2['tot_agg_burg'] / (ultimate_df_2['population'] / 1000))\n",
    "ultimate_df_3 = ultimate_df_2.drop(columns=[ 'incident_occurred', 'incident_number', 'index_right'])\n",
    "ultimate_df_3 = ultimate_df_3.fillna(0)\n",
    "ultimate_df_3 = ultimate_df_3[ultimate_df_3['population'] != 0]\n",
    "ultimate_df_3.shape"
   ]
  },
  {
   "cell_type": "code",
   "execution_count": 29,
   "id": "244ceaac",
   "metadata": {
    "scrolled": true
   },
   "outputs": [
    {
     "ename": "NameError",
     "evalue": "name 'gpd' is not defined",
     "output_type": "error",
     "traceback": [
      "\u001b[1;31m---------------------------------------------------------------------------\u001b[0m",
      "\u001b[1;31mNameError\u001b[0m                                 Traceback (most recent call last)",
      "\u001b[1;32m<ipython-input-29-4e5752832770>\u001b[0m in \u001b[0;36m<module>\u001b[1;34m\u001b[0m\n\u001b[1;32m----> 1\u001b[1;33m \u001b[0mchloropleth\u001b[0m \u001b[1;33m=\u001b[0m \u001b[0mgpd\u001b[0m\u001b[1;33m.\u001b[0m\u001b[0msjoin\u001b[0m\u001b[1;33m(\u001b[0m\u001b[0mctract_gdf\u001b[0m\u001b[1;33m,\u001b[0m \u001b[0multimate_df_3\u001b[0m\u001b[1;33m,\u001b[0m \u001b[0mhow\u001b[0m \u001b[1;33m=\u001b[0m \u001b[1;34m'left'\u001b[0m\u001b[1;33m)\u001b[0m\u001b[1;33m\u001b[0m\u001b[1;33m\u001b[0m\u001b[0m\n\u001b[0m\u001b[0;32m      2\u001b[0m \u001b[0mchloropleth\u001b[0m \u001b[1;33m=\u001b[0m \u001b[0mchloropleth\u001b[0m\u001b[1;33m.\u001b[0m\u001b[0mdrop\u001b[0m\u001b[1;33m(\u001b[0m\u001b[0mcolumns\u001b[0m \u001b[1;33m=\u001b[0m \u001b[1;33m[\u001b[0m\u001b[1;34m'tract_right'\u001b[0m\u001b[1;33m,\u001b[0m \u001b[1;34m'index_right'\u001b[0m\u001b[1;33m]\u001b[0m\u001b[1;33m)\u001b[0m\u001b[1;33m\u001b[0m\u001b[1;33m\u001b[0m\u001b[0m\n\u001b[0;32m      3\u001b[0m \u001b[0mchloropleth\u001b[0m\u001b[1;33m.\u001b[0m\u001b[0mrename\u001b[0m\u001b[1;33m(\u001b[0m\u001b[0mcolumns\u001b[0m \u001b[1;33m=\u001b[0m \u001b[1;33m{\u001b[0m\u001b[1;34m'tract_left'\u001b[0m\u001b[1;33m:\u001b[0m \u001b[1;34m'tract'\u001b[0m\u001b[1;33m}\u001b[0m\u001b[1;33m,\u001b[0m \u001b[0minplace\u001b[0m\u001b[1;33m=\u001b[0m\u001b[1;32mTrue\u001b[0m\u001b[1;33m)\u001b[0m\u001b[1;33m\u001b[0m\u001b[1;33m\u001b[0m\u001b[0m\n\u001b[0;32m      4\u001b[0m \u001b[0mchloropleth\u001b[0m \u001b[1;33m=\u001b[0m \u001b[0mchloropleth\u001b[0m\u001b[1;33m.\u001b[0m\u001b[0mdropna\u001b[0m\u001b[1;33m(\u001b[0m\u001b[1;33m)\u001b[0m\u001b[1;33m\u001b[0m\u001b[1;33m\u001b[0m\u001b[0m\n\u001b[0;32m      5\u001b[0m leg_kwds = {'title': 'burglaries_per_1000', 'loc': 'upper left', \n",
      "\u001b[1;31mNameError\u001b[0m: name 'gpd' is not defined"
     ]
    }
   ],
   "source": [
    "chloropleth = gpd.sjoin(ctract_gdf, ultimate_df_3, how = 'left')\n",
    "chloropleth = chloropleth.drop(columns = ['tract_right', 'index_right'])\n",
    "chloropleth.rename(columns = {'tract_left': 'tract'}, inplace=True)\n",
    "chloropleth = chloropleth.dropna()\n",
    "leg_kwds = {'title': 'burglaries_per_1000', 'loc': 'upper left', \n",
    "            'bbox_to_anchor': (1, 1.03), 'ncol': 2}\n",
    "\n",
    "chloropleth.plot(column = 'burglaries_per_1000', figsize=(10, 10),\n",
    "                 edgecolor = 'black',\n",
    "                 legend = True, legend_kwds = leg_kwds, \n",
    "                 cmap = 'Set2')\n",
    "plt.show()"
   ]
  },
  {
   "cell_type": "code",
   "execution_count": 30,
   "id": "a6b3a74f",
   "metadata": {},
   "outputs": [
    {
     "ename": "NameError",
     "evalue": "name 'chloropleth' is not defined",
     "output_type": "error",
     "traceback": [
      "\u001b[1;31m---------------------------------------------------------------------------\u001b[0m",
      "\u001b[1;31mNameError\u001b[0m                                 Traceback (most recent call last)",
      "\u001b[1;32m<ipython-input-30-d3506d9224c5>\u001b[0m in \u001b[0;36m<module>\u001b[1;34m\u001b[0m\n\u001b[1;32m----> 1\u001b[1;33m \u001b[0mchloropleth\u001b[0m\u001b[1;33m[\u001b[0m\u001b[1;34m'burglaries_per_1000'\u001b[0m\u001b[1;33m]\u001b[0m\u001b[1;33m.\u001b[0m\u001b[0munique\u001b[0m\u001b[1;33m(\u001b[0m\u001b[1;33m)\u001b[0m\u001b[1;33m\u001b[0m\u001b[1;33m\u001b[0m\u001b[0m\n\u001b[0m",
      "\u001b[1;31mNameError\u001b[0m: name 'chloropleth' is not defined"
     ]
    }
   ],
   "source": [
    "chloropleth['burglaries_per_1000'].unique()"
   ]
  },
  {
   "cell_type": "markdown",
   "id": "eb449dd1",
   "metadata": {},
   "source": [
    "# 5"
   ]
  },
  {
   "cell_type": "code",
   "execution_count": 31,
   "id": "888111c2",
   "metadata": {},
   "outputs": [
    {
     "ename": "NameError",
     "evalue": "name 'ultimate_df_3' is not defined",
     "output_type": "error",
     "traceback": [
      "\u001b[1;31m---------------------------------------------------------------------------\u001b[0m",
      "\u001b[1;31mNameError\u001b[0m                                 Traceback (most recent call last)",
      "\u001b[1;32m<ipython-input-31-494d646947dc>\u001b[0m in \u001b[0;36m<module>\u001b[1;34m\u001b[0m\n\u001b[1;32m----> 1\u001b[1;33m \u001b[0multimate_df_3\u001b[0m\u001b[1;33m\u001b[0m\u001b[1;33m\u001b[0m\u001b[0m\n\u001b[0m",
      "\u001b[1;31mNameError\u001b[0m: name 'ultimate_df_3' is not defined"
     ]
    }
   ],
   "source": [
    "ultimate_df_3"
   ]
  },
  {
   "cell_type": "code",
   "execution_count": 32,
   "id": "10cefd8d",
   "metadata": {
    "scrolled": true
   },
   "outputs": [
    {
     "ename": "NameError",
     "evalue": "name 'np' is not defined",
     "output_type": "error",
     "traceback": [
      "\u001b[1;31m---------------------------------------------------------------------------\u001b[0m",
      "\u001b[1;31mNameError\u001b[0m                                 Traceback (most recent call last)",
      "\u001b[1;32m<ipython-input-32-d9c1d0da545d>\u001b[0m in \u001b[0;36m<module>\u001b[1;34m\u001b[0m\n\u001b[1;32m----> 1\u001b[1;33m \u001b[0multimate_df_3\u001b[0m\u001b[1;33m[\u001b[0m\u001b[1;34m'log_population'\u001b[0m\u001b[1;33m]\u001b[0m \u001b[1;33m=\u001b[0m \u001b[0mnp\u001b[0m\u001b[1;33m.\u001b[0m\u001b[0mlog\u001b[0m\u001b[1;33m(\u001b[0m\u001b[0multimate_df_3\u001b[0m\u001b[1;33m[\u001b[0m\u001b[1;34m'population'\u001b[0m\u001b[1;33m]\u001b[0m\u001b[1;33m)\u001b[0m\u001b[1;33m\u001b[0m\u001b[1;33m\u001b[0m\u001b[0m\n\u001b[0m\u001b[0;32m      2\u001b[0m \u001b[0multimate_df_3\u001b[0m\u001b[1;33m\u001b[0m\u001b[1;33m\u001b[0m\u001b[0m\n",
      "\u001b[1;31mNameError\u001b[0m: name 'np' is not defined"
     ]
    }
   ],
   "source": [
    "ultimate_df_3['log_population'] = np.log(ultimate_df_3['population'])\n",
    "ultimate_df_3"
   ]
  },
  {
   "cell_type": "code",
   "execution_count": 33,
   "id": "9b22237e",
   "metadata": {},
   "outputs": [
    {
     "ename": "NameError",
     "evalue": "name 'sm' is not defined",
     "output_type": "error",
     "traceback": [
      "\u001b[1;31m---------------------------------------------------------------------------\u001b[0m",
      "\u001b[1;31mNameError\u001b[0m                                 Traceback (most recent call last)",
      "\u001b[1;32m<ipython-input-33-6847ae87d9fb>\u001b[0m in \u001b[0;36m<module>\u001b[1;34m\u001b[0m\n\u001b[1;32m----> 1\u001b[1;33m poisreg_population = (sm.GLM(endog = ultimate_df_3['tot_agg_burg'],\n\u001b[0m\u001b[0;32m      2\u001b[0m                              \u001b[0mexog\u001b[0m \u001b[1;33m=\u001b[0m \u001b[0msm\u001b[0m\u001b[1;33m.\u001b[0m\u001b[0madd_constant\u001b[0m\u001b[1;33m(\u001b[0m\u001b[0multimate_df_3\u001b[0m\u001b[1;33m[\u001b[0m\u001b[1;33m[\u001b[0m\u001b[1;34m'log_population'\u001b[0m\u001b[1;33m]\u001b[0m\u001b[1;33m]\u001b[0m\u001b[1;33m)\u001b[0m\u001b[1;33m,\u001b[0m\u001b[1;33m\u001b[0m\u001b[1;33m\u001b[0m\u001b[0m\n\u001b[0;32m      3\u001b[0m                              family = sm.families.Poisson())\n\u001b[0;32m      4\u001b[0m                      \u001b[1;33m.\u001b[0m\u001b[0mfit\u001b[0m\u001b[1;33m(\u001b[0m\u001b[1;33m)\u001b[0m\u001b[1;33m\u001b[0m\u001b[1;33m\u001b[0m\u001b[0m\n\u001b[0;32m      5\u001b[0m                      )\n",
      "\u001b[1;31mNameError\u001b[0m: name 'sm' is not defined"
     ]
    }
   ],
   "source": [
    "poisreg_population = (sm.GLM(endog = ultimate_df_3['tot_agg_burg'],\n",
    "                             exog = sm.add_constant(ultimate_df_3[['log_population']]),\n",
    "                             family = sm.families.Poisson())\n",
    "                     .fit()\n",
    "                     )"
   ]
  },
  {
   "cell_type": "code",
   "execution_count": null,
   "id": "1fb00cad",
   "metadata": {},
   "outputs": [],
   "source": []
  },
  {
   "cell_type": "code",
   "execution_count": null,
   "id": "ac9cbd6f",
   "metadata": {},
   "outputs": [],
   "source": []
  }
 ],
 "metadata": {
  "kernelspec": {
   "display_name": "Python 3",
   "language": "python",
   "name": "python3"
  },
  "language_info": {
   "codemirror_mode": {
    "name": "ipython",
    "version": 3
   },
   "file_extension": ".py",
   "mimetype": "text/x-python",
   "name": "python",
   "nbconvert_exporter": "python",
   "pygments_lexer": "ipython3",
   "version": "3.8.8"
  }
 },
 "nbformat": 4,
 "nbformat_minor": 5
}
